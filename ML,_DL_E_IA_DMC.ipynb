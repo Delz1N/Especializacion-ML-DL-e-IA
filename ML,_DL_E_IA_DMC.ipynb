{
  "nbformat": 4,
  "nbformat_minor": 0,
  "metadata": {
    "colab": {
      "provenance": [],
      "collapsed_sections": [
        "IlPf8uqomLJi",
        "ACKS7obhml3E",
        "fqsmuMkDnUwL",
        "22ZofVgTnh6J",
        "l40gl6zsq_fi",
        "ncJVYRT7sqQa",
        "85kqRluSs5P5",
        "WWkJN58LtJp9",
        "2C8uiw7Ptnby",
        "a0seXMhJuNvV",
        "cdLqQdJnu8oK",
        "jGg3vjbDwDRU",
        "aVsG2mUOwTUY"
      ],
      "toc_visible": true,
      "authorship_tag": "ABX9TyPKqyJ6AeOmqhrdnwVYyFIc",
      "include_colab_link": true
    },
    "kernelspec": {
      "name": "python3",
      "display_name": "Python 3"
    },
    "language_info": {
      "name": "python"
    }
  },
  "cells": [
    {
      "cell_type": "markdown",
      "metadata": {
        "id": "view-in-github",
        "colab_type": "text"
      },
      "source": [
        "<a href=\"https://colab.research.google.com/github/Delz1N/Especializacion-ML-DL-e-IA/blob/main/ML%2C_DL_E_IA_DMC.ipynb\" target=\"_parent\"><img src=\"https://colab.research.google.com/assets/colab-badge.svg\" alt=\"Open In Colab\"/></a>"
      ]
    },
    {
      "cell_type": "markdown",
      "source": [
        "## INTRODUCCION AL ENTORNO DE PYTHON"
      ],
      "metadata": {
        "id": "IlPf8uqomLJi"
      }
    },
    {
      "cell_type": "markdown",
      "source": [
        "### Verificando la version de python"
      ],
      "metadata": {
        "id": "klwQZaAGmVXd"
      }
    },
    {
      "cell_type": "code",
      "source": [
        "!python3 # tenemos que poner la exclamacion"
      ],
      "metadata": {
        "colab": {
          "base_uri": "https://localhost:8080/"
        },
        "id": "3GspstA9mUuz",
        "outputId": "08c7eb9d-980a-48df-d857-088454b7defa"
      },
      "execution_count": 1,
      "outputs": [
        {
          "output_type": "stream",
          "name": "stdout",
          "text": [
            "\n",
            "KeyboardInterrupt\n",
            ">>> ^C\n"
          ]
        }
      ]
    },
    {
      "cell_type": "markdown",
      "source": [
        "### Ejecutando en python"
      ],
      "metadata": {
        "id": "ACKS7obhml3E"
      }
    },
    {
      "cell_type": "code",
      "execution_count": 3,
      "metadata": {
        "colab": {
          "base_uri": "https://localhost:8080/"
        },
        "id": "LKwNbbVLdWQ6",
        "outputId": "621454bf-a33e-4e42-ceba-08251bf65795"
      },
      "outputs": [
        {
          "output_type": "stream",
          "name": "stdout",
          "text": [
            "Hello python Interpreter\n"
          ]
        }
      ],
      "source": [
        "print('Hello python Interpreter') # imprimiendo"
      ]
    },
    {
      "cell_type": "code",
      "source": [
        "1  + 1 # suma de valores"
      ],
      "metadata": {
        "colab": {
          "base_uri": "https://localhost:8080/"
        },
        "id": "i18A_P0fnEmh",
        "outputId": "193ee2e7-6dd8-4aac-a181-124975af83d6"
      },
      "execution_count": 68,
      "outputs": [
        {
          "output_type": "execute_result",
          "data": {
            "text/plain": [
              "2"
            ]
          },
          "metadata": {},
          "execution_count": 68
        }
      ]
    },
    {
      "cell_type": "code",
      "source": [
        "365 * 888 # multiplicacion de valores"
      ],
      "metadata": {
        "colab": {
          "base_uri": "https://localhost:8080/"
        },
        "id": "oGNEdiZpnFXC",
        "outputId": "d9ba6a68-3168-4ea7-a570-4b113a9a9d53"
      },
      "execution_count": 4,
      "outputs": [
        {
          "output_type": "execute_result",
          "data": {
            "text/plain": [
              "324120"
            ]
          },
          "metadata": {},
          "execution_count": 4
        }
      ]
    },
    {
      "cell_type": "code",
      "source": [
        "2 ** 3 # exponencial de valores"
      ],
      "metadata": {
        "colab": {
          "base_uri": "https://localhost:8080/"
        },
        "id": "08O4AYJWnJZJ",
        "outputId": "fe1f3722-0a16-457e-9628-c1e7f943eb5e"
      },
      "execution_count": 5,
      "outputs": [
        {
          "output_type": "execute_result",
          "data": {
            "text/plain": [
              "8"
            ]
          },
          "metadata": {},
          "execution_count": 5
        }
      ]
    },
    {
      "cell_type": "markdown",
      "source": [
        "### Variables en python"
      ],
      "metadata": {
        "id": "fqsmuMkDnUwL"
      }
    },
    {
      "cell_type": "code",
      "source": [
        "# Definiendo la variable\n",
        "\n",
        "messange = 'Hello python world'\n",
        "print(messange)"
      ],
      "metadata": {
        "colab": {
          "base_uri": "https://localhost:8080/"
        },
        "id": "hZZy8bUGnKj-",
        "outputId": "872d61f3-954e-48eb-dfda-e038d7c5ca07"
      },
      "execution_count": 7,
      "outputs": [
        {
          "output_type": "stream",
          "name": "stdout",
          "text": [
            "Hello python world\n"
          ]
        }
      ]
    },
    {
      "cell_type": "markdown",
      "source": [
        "### Usando variables con strings"
      ],
      "metadata": {
        "id": "22ZofVgTnh6J"
      }
    },
    {
      "cell_type": "code",
      "source": [
        "# Imprimiendo variables\n",
        "\n",
        "first_name = 'Delsin'\n",
        "last_name = 'Curioso'\n",
        "full_name = first_name, last_name\n",
        "print(first_name, last_name)\n",
        "print(full_name)"
      ],
      "metadata": {
        "colab": {
          "base_uri": "https://localhost:8080/"
        },
        "id": "7pO6Yqy9neVL",
        "outputId": "1435a2e2-1f41-4da7-84a2-afa179e1c21f"
      },
      "execution_count": 12,
      "outputs": [
        {
          "output_type": "stream",
          "name": "stdout",
          "text": [
            "Delsin Curioso\n",
            "('Delsin', 'Curioso')\n"
          ]
        }
      ]
    },
    {
      "cell_type": "code",
      "source": [
        "# Sentencia Inputs - Ingresar cosas\n",
        "\n",
        "first_name = str(input('Ingrese su nombre: '))\n",
        "last_name = str(input('Ingrese su apellido: '))\n",
        "full_name = f'{first_name} {last_name}'\n",
        "print(f'Bienvenido {full_name}!')\n"
      ],
      "metadata": {
        "colab": {
          "base_uri": "https://localhost:8080/"
        },
        "id": "E1Li6OYRnu-S",
        "outputId": "5a561a9d-966a-47fd-e7d7-c6a871018e98"
      },
      "execution_count": 14,
      "outputs": [
        {
          "output_type": "stream",
          "name": "stdout",
          "text": [
            "Ingrese su nombre: deybis\n",
            "Ingrese su apellido: curioso\n",
            "Bienvenido deybis curioso\n"
          ]
        }
      ]
    },
    {
      "cell_type": "code",
      "source": [
        "# el metodo title pone en mayusculas el inicio de un cadena de texto\n",
        "\n",
        "print(f'Hola, {full_name.title()}!')"
      ],
      "metadata": {
        "colab": {
          "base_uri": "https://localhost:8080/"
        },
        "id": "I5vKG2qQpskT",
        "outputId": "bddd2603-6006-4d01-ffe9-b58404614d25"
      },
      "execution_count": 16,
      "outputs": [
        {
          "output_type": "stream",
          "name": "stdout",
          "text": [
            "Hola, Deybis Curioso!\n"
          ]
        }
      ]
    },
    {
      "cell_type": "code",
      "source": [
        " print('\\tPython')"
      ],
      "metadata": {
        "colab": {
          "base_uri": "https://localhost:8080/"
        },
        "id": "ckjdTVdbpeQL",
        "outputId": "5016949f-e10e-4930-bdb7-2e85733e57a7"
      },
      "execution_count": 17,
      "outputs": [
        {
          "output_type": "stream",
          "name": "stdout",
          "text": [
            "\tPython\n"
          ]
        }
      ]
    },
    {
      "cell_type": "code",
      "source": [
        "print('Lenguajes:\\nPython\\nC\\nJavaScript')"
      ],
      "metadata": {
        "colab": {
          "base_uri": "https://localhost:8080/"
        },
        "id": "vSkjmrN6qsTy",
        "outputId": "d4aa7151-23a0-431c-bf1c-496246e6386b"
      },
      "execution_count": 18,
      "outputs": [
        {
          "output_type": "stream",
          "name": "stdout",
          "text": [
            "Lenguajes:\n",
            "Python\n",
            "C\n",
            "JavaScript\n"
          ]
        }
      ]
    },
    {
      "cell_type": "code",
      "source": [
        "print('Lenguajes:\\n\\tPython\\n\\tC\\n\\tJavaScript')"
      ],
      "metadata": {
        "colab": {
          "base_uri": "https://localhost:8080/"
        },
        "id": "sUkbKpTfq0z3",
        "outputId": "8523447c-6d9d-4863-d15b-3efe10291228"
      },
      "execution_count": 19,
      "outputs": [
        {
          "output_type": "stream",
          "name": "stdout",
          "text": [
            "Lenguajes:\n",
            "\tPython\n",
            "\tC\n",
            "\tJavaScript\n"
          ]
        }
      ]
    },
    {
      "cell_type": "markdown",
      "source": [
        "### Espacios en python"
      ],
      "metadata": {
        "id": "l40gl6zsq_fi"
      }
    },
    {
      "cell_type": "code",
      "source": [
        "# Variable con espacio\n",
        "\n",
        "favorite_language = '  Python '\n",
        "favorite_language"
      ],
      "metadata": {
        "colab": {
          "base_uri": "https://localhost:8080/",
          "height": 36
        },
        "id": "BSx2k3UXq9xF",
        "outputId": "84ea5989-380f-4332-dced-dea835e66bb7"
      },
      "execution_count": 30,
      "outputs": [
        {
          "output_type": "execute_result",
          "data": {
            "text/plain": [
              "'  Python '"
            ],
            "application/vnd.google.colaboratory.intrinsic+json": {
              "type": "string"
            }
          },
          "metadata": {},
          "execution_count": 30
        }
      ]
    },
    {
      "cell_type": "code",
      "source": [
        "# funcion rstrip, quitando los espacios a la derecha\n",
        "\n",
        "favorite_language.rstrip() # Esto no modifica el objeto"
      ],
      "metadata": {
        "colab": {
          "base_uri": "https://localhost:8080/",
          "height": 36
        },
        "id": "sfLvEymercyW",
        "outputId": "27b65344-1974-4b0e-8b03-2b950330a5b6"
      },
      "execution_count": 37,
      "outputs": [
        {
          "output_type": "execute_result",
          "data": {
            "text/plain": [
              "'Python'"
            ],
            "application/vnd.google.colaboratory.intrinsic+json": {
              "type": "string"
            }
          },
          "metadata": {},
          "execution_count": 37
        }
      ]
    },
    {
      "cell_type": "code",
      "source": [
        "# funcion lstrip, quitando los espacios a la izquierda\n",
        "\n",
        "favorite_language.lstrip()"
      ],
      "metadata": {
        "colab": {
          "base_uri": "https://localhost:8080/",
          "height": 36
        },
        "id": "8B2zPTh5sPFz",
        "outputId": "9c3033ae-1b52-441a-bbb1-84d7da0e4448"
      },
      "execution_count": 38,
      "outputs": [
        {
          "output_type": "execute_result",
          "data": {
            "text/plain": [
              "'Python'"
            ],
            "application/vnd.google.colaboratory.intrinsic+json": {
              "type": "string"
            }
          },
          "metadata": {},
          "execution_count": 38
        }
      ]
    },
    {
      "cell_type": "code",
      "source": [
        "# Funcion strip, quitando los espacios de la derecha e izquierda\n",
        "\n",
        "favorite_language.strip()"
      ],
      "metadata": {
        "colab": {
          "base_uri": "https://localhost:8080/",
          "height": 36
        },
        "id": "JUd6RLWIsO8C",
        "outputId": "1b525181-6c6e-46db-a452-ba7b9b7d8ca1"
      },
      "execution_count": 39,
      "outputs": [
        {
          "output_type": "execute_result",
          "data": {
            "text/plain": [
              "'Python'"
            ],
            "application/vnd.google.colaboratory.intrinsic+json": {
              "type": "string"
            }
          },
          "metadata": {},
          "execution_count": 39
        }
      ]
    },
    {
      "cell_type": "code",
      "source": [
        "# Chancado de objeto para modificarlo\n",
        "\n",
        "favorite_language = favorite_languaje.strip()\n",
        "favorite_language # objeto modificado"
      ],
      "metadata": {
        "colab": {
          "base_uri": "https://localhost:8080/",
          "height": 36
        },
        "id": "N9WAXKnerlYH",
        "outputId": "f0296693-e2c2-48fe-fd29-010bb7aaf729"
      },
      "execution_count": 40,
      "outputs": [
        {
          "output_type": "execute_result",
          "data": {
            "text/plain": [
              "'Python'"
            ],
            "application/vnd.google.colaboratory.intrinsic+json": {
              "type": "string"
            }
          },
          "metadata": {},
          "execution_count": 40
        }
      ]
    },
    {
      "cell_type": "markdown",
      "source": [
        "### Problemas comunes"
      ],
      "metadata": {
        "id": "ncJVYRT7sqQa"
      }
    },
    {
      "cell_type": "code",
      "source": [
        "# Trabajar con diferentes comillas\n",
        "\n",
        "messange = \"El libro 'Harry Potter' fue un best seller\"\n",
        "print(messange) # no genera error"
      ],
      "metadata": {
        "colab": {
          "base_uri": "https://localhost:8080/"
        },
        "id": "CLw9Gv9MrlVe",
        "outputId": "87d536d7-07ff-4227-a6cd-862b455ec191"
      },
      "execution_count": 41,
      "outputs": [
        {
          "output_type": "stream",
          "name": "stdout",
          "text": [
            "El libro 'Harry Potter' fue un best seller\n"
          ]
        }
      ]
    },
    {
      "cell_type": "markdown",
      "source": [
        "### Numeros"
      ],
      "metadata": {
        "id": "85kqRluSs5P5"
      }
    },
    {
      "cell_type": "code",
      "source": [
        "2 + 3"
      ],
      "metadata": {
        "colab": {
          "base_uri": "https://localhost:8080/"
        },
        "id": "afWmuuU-rlTi",
        "outputId": "07544e72-e312-40e8-a397-9d5a85adb274"
      },
      "execution_count": 45,
      "outputs": [
        {
          "output_type": "execute_result",
          "data": {
            "text/plain": [
              "5"
            ]
          },
          "metadata": {},
          "execution_count": 45
        }
      ]
    },
    {
      "cell_type": "code",
      "source": [
        "3 ** 2"
      ],
      "metadata": {
        "colab": {
          "base_uri": "https://localhost:8080/"
        },
        "id": "wSZ82deirlRN",
        "outputId": "a6427d2e-1eca-4404-d692-6a4436ba327e"
      },
      "execution_count": 46,
      "outputs": [
        {
          "output_type": "execute_result",
          "data": {
            "text/plain": [
              "9"
            ]
          },
          "metadata": {},
          "execution_count": 46
        }
      ]
    },
    {
      "cell_type": "code",
      "source": [
        "(2 + 3) * 5"
      ],
      "metadata": {
        "colab": {
          "base_uri": "https://localhost:8080/"
        },
        "id": "bebjk9H3rlOz",
        "outputId": "15fef780-e9a5-4f27-a413-096458f1a6d0"
      },
      "execution_count": 47,
      "outputs": [
        {
          "output_type": "execute_result",
          "data": {
            "text/plain": [
              "25"
            ]
          },
          "metadata": {},
          "execution_count": 47
        }
      ]
    },
    {
      "cell_type": "markdown",
      "source": [
        "### Floats"
      ],
      "metadata": {
        "id": "WWkJN58LtJp9"
      }
    },
    {
      "cell_type": "code",
      "source": [
        "type(20.0)"
      ],
      "metadata": {
        "colab": {
          "base_uri": "https://localhost:8080/"
        },
        "id": "yHvFQ8DNrlMX",
        "outputId": "75e8c294-9480-4f48-ac35-81356c78d673"
      },
      "execution_count": 48,
      "outputs": [
        {
          "output_type": "execute_result",
          "data": {
            "text/plain": [
              "float"
            ]
          },
          "metadata": {},
          "execution_count": 48
        }
      ]
    },
    {
      "cell_type": "code",
      "source": [
        "0.1 + 1"
      ],
      "metadata": {
        "colab": {
          "base_uri": "https://localhost:8080/"
        },
        "id": "k9jBq9hItMQZ",
        "outputId": "b8c77419-8d65-42e2-df48-eb20fb71016b"
      },
      "execution_count": 49,
      "outputs": [
        {
          "output_type": "execute_result",
          "data": {
            "text/plain": [
              "1.1"
            ]
          },
          "metadata": {},
          "execution_count": 49
        }
      ]
    },
    {
      "cell_type": "code",
      "source": [
        "2 * 0.2"
      ],
      "metadata": {
        "colab": {
          "base_uri": "https://localhost:8080/"
        },
        "id": "G7-0--QetNw9",
        "outputId": "27e2eabb-725c-44a1-b4d4-cc412fb64164"
      },
      "execution_count": 50,
      "outputs": [
        {
          "output_type": "execute_result",
          "data": {
            "text/plain": [
              "0.4"
            ]
          },
          "metadata": {},
          "execution_count": 50
        }
      ]
    },
    {
      "cell_type": "code",
      "source": [
        "# resultado es un float\n",
        "\n",
        "0.2 + 0.1 # error computacional por la aproximacion de decimales"
      ],
      "metadata": {
        "colab": {
          "base_uri": "https://localhost:8080/"
        },
        "id": "fjH64XdUtPL6",
        "outputId": "89918705-9aa3-4df4-a3ed-7dc55538109d"
      },
      "execution_count": 51,
      "outputs": [
        {
          "output_type": "execute_result",
          "data": {
            "text/plain": [
              "0.30000000000000004"
            ]
          },
          "metadata": {},
          "execution_count": 51
        }
      ]
    },
    {
      "cell_type": "code",
      "source": [
        "# Operaciones entre enteros y floats\n",
        "\n",
        "2 / 2.0"
      ],
      "metadata": {
        "colab": {
          "base_uri": "https://localhost:8080/"
        },
        "id": "RdCdeIyItpkq",
        "outputId": "b9789a14-d433-48c8-f024-6f1cdb7b2cc9"
      },
      "execution_count": 55,
      "outputs": [
        {
          "output_type": "execute_result",
          "data": {
            "text/plain": [
              "1.0"
            ]
          },
          "metadata": {},
          "execution_count": 55
        }
      ]
    },
    {
      "cell_type": "code",
      "source": [
        "1 * 3.0"
      ],
      "metadata": {
        "colab": {
          "base_uri": "https://localhost:8080/"
        },
        "id": "8j-7ubLAt2T3",
        "outputId": "592fe0c6-3a82-4191-9d39-675af1a070d1"
      },
      "execution_count": 54,
      "outputs": [
        {
          "output_type": "execute_result",
          "data": {
            "text/plain": [
              "3.0"
            ]
          },
          "metadata": {},
          "execution_count": 54
        }
      ]
    },
    {
      "cell_type": "code",
      "source": [
        "2 ** 2.0 # toda operacion con un float nos da como resultado un float"
      ],
      "metadata": {
        "colab": {
          "base_uri": "https://localhost:8080/"
        },
        "id": "4P6BL4Bqt2Qf",
        "outputId": "c3cf4efe-c1aa-47f7-9129-9faa44100e7b"
      },
      "execution_count": 56,
      "outputs": [
        {
          "output_type": "execute_result",
          "data": {
            "text/plain": [
              "4.0"
            ]
          },
          "metadata": {},
          "execution_count": 56
        }
      ]
    },
    {
      "cell_type": "markdown",
      "source": [
        "### Guiones bajos en numeros"
      ],
      "metadata": {
        "id": "2C8uiw7Ptnby"
      }
    },
    {
      "cell_type": "code",
      "source": [
        "# poner guiones bajos a tus nros\n",
        "\n",
        "universe_age = 14_000_000_000\n",
        "universe_age"
      ],
      "metadata": {
        "colab": {
          "base_uri": "https://localhost:8080/"
        },
        "id": "CcTdL0KhtQU4",
        "outputId": "db377fad-50f5-499b-aaed-143a1dd5c85c"
      },
      "execution_count": 58,
      "outputs": [
        {
          "output_type": "execute_result",
          "data": {
            "text/plain": [
              "14000000000"
            ]
          },
          "metadata": {},
          "execution_count": 58
        }
      ]
    },
    {
      "cell_type": "markdown",
      "source": [
        "### Asignacion Multiple"
      ],
      "metadata": {
        "id": "a0seXMhJuNvV"
      }
    },
    {
      "cell_type": "code",
      "source": [
        "# le he asignado el valor que va contener esa variable\n",
        "\n",
        "a = 5"
      ],
      "metadata": {
        "id": "biM0UxGxuLWe"
      },
      "execution_count": 59,
      "outputs": []
    },
    {
      "cell_type": "code",
      "source": [
        "# almacenar varios objetos al mismo tiempo\n",
        "\n",
        "a, b = 1, 2 # se asigna segun su orden\n",
        "a, b"
      ],
      "metadata": {
        "colab": {
          "base_uri": "https://localhost:8080/"
        },
        "id": "MfS1yA7SuTM7",
        "outputId": "38dc49d3-d2d3-4162-bf66-1600b67d3016"
      },
      "execution_count": 62,
      "outputs": [
        {
          "output_type": "execute_result",
          "data": {
            "text/plain": [
              "(1, 2)"
            ]
          },
          "metadata": {},
          "execution_count": 62
        }
      ]
    },
    {
      "cell_type": "code",
      "source": [
        "# asignar objetos por medio de una lista\n",
        "\n",
        "edades = [20, 18, 15]\n",
        "ray, carlitos, vanesa = edades\n",
        "ray,carlitos,vanesa"
      ],
      "metadata": {
        "colab": {
          "base_uri": "https://localhost:8080/"
        },
        "id": "H178xb1Ouazn",
        "outputId": "c28140e2-3d8e-4e4e-bf2f-4ba9230fea23"
      },
      "execution_count": 65,
      "outputs": [
        {
          "output_type": "execute_result",
          "data": {
            "text/plain": [
              "(20, 18, 15)"
            ]
          },
          "metadata": {},
          "execution_count": 65
        }
      ]
    },
    {
      "cell_type": "markdown",
      "source": [
        "### Constantes"
      ],
      "metadata": {
        "id": "cdLqQdJnu8oK"
      }
    },
    {
      "cell_type": "code",
      "source": [
        "# valor que no va ser modificado\n",
        "\n",
        "MAX_CONNECTIONS = 5000 # se ha fijado este valor estatico"
      ],
      "metadata": {
        "id": "am1vcqmFux6G"
      },
      "execution_count": 66,
      "outputs": []
    },
    {
      "cell_type": "markdown",
      "source": [
        "### Ejercicio\n",
        "\n",
        "Usa una variable para representar un numero. Luego, usando esa variable, cree un mensaje que revele ese numero. imprime ese mensaje"
      ],
      "metadata": {
        "id": "CXafObZvvOuu"
      }
    },
    {
      "cell_type": "markdown",
      "source": [
        "### El ZEN de python"
      ],
      "metadata": {
        "id": "jGg3vjbDwDRU"
      }
    },
    {
      "cell_type": "code",
      "source": [
        "import this"
      ],
      "metadata": {
        "colab": {
          "base_uri": "https://localhost:8080/"
        },
        "id": "31XY57ixvIXy",
        "outputId": "12d6aad4-2404-4d1f-d0bb-4f87cbad9cc6"
      },
      "execution_count": 67,
      "outputs": [
        {
          "output_type": "stream",
          "name": "stdout",
          "text": [
            "The Zen of Python, by Tim Peters\n",
            "\n",
            "Beautiful is better than ugly.\n",
            "Explicit is better than implicit.\n",
            "Simple is better than complex.\n",
            "Complex is better than complicated.\n",
            "Flat is better than nested.\n",
            "Sparse is better than dense.\n",
            "Readability counts.\n",
            "Special cases aren't special enough to break the rules.\n",
            "Although practicality beats purity.\n",
            "Errors should never pass silently.\n",
            "Unless explicitly silenced.\n",
            "In the face of ambiguity, refuse the temptation to guess.\n",
            "There should be one-- and preferably only one --obvious way to do it.\n",
            "Although that way may not be obvious at first unless you're Dutch.\n",
            "Now is better than never.\n",
            "Although never is often better than *right* now.\n",
            "If the implementation is hard to explain, it's a bad idea.\n",
            "If the implementation is easy to explain, it may be a good idea.\n",
            "Namespaces are one honking great idea -- let's do more of those!\n"
          ]
        }
      ]
    },
    {
      "cell_type": "markdown",
      "source": [
        "## INTRODUCCION A LAS LISTAS"
      ],
      "metadata": {
        "id": "aVsG2mUOwTUY"
      }
    },
    {
      "cell_type": "code",
      "source": [
        "# Creando una lista\n",
        "\n",
        "a = ['John', 'Ricardo', 'Marcelo', 'Heidy', 'Nataly']\n",
        "a"
      ],
      "metadata": {
        "colab": {
          "base_uri": "https://localhost:8080/"
        },
        "id": "pdkBV3ubxFw7",
        "outputId": "122b1d8b-55ff-4c41-c074-4cca1408f6e1"
      },
      "execution_count": 69,
      "outputs": [
        {
          "output_type": "execute_result",
          "data": {
            "text/plain": [
              "['John', 'Ricardo', 'Marcelo', 'Heidy', 'Nataly']"
            ]
          },
          "metadata": {},
          "execution_count": 69
        }
      ]
    },
    {
      "cell_type": "code",
      "source": [
        "b = [10, 12, 8, 5, 99.0]\n",
        "b"
      ],
      "metadata": {
        "colab": {
          "base_uri": "https://localhost:8080/"
        },
        "id": "18brMz4dwGc9",
        "outputId": "65675764-36e7-4beb-8ea0-b11bbb800509"
      },
      "execution_count": 71,
      "outputs": [
        {
          "output_type": "execute_result",
          "data": {
            "text/plain": [
              "[10, 12, 8, 5, 99.0]"
            ]
          },
          "metadata": {},
          "execution_count": 71
        }
      ]
    },
    {
      "cell_type": "code",
      "source": [
        "c = ['John', 10, None]\n",
        "c"
      ],
      "metadata": {
        "colab": {
          "base_uri": "https://localhost:8080/"
        },
        "id": "qh8GJ3h6wpWH",
        "outputId": "dbb6a887-08a6-4321-fb4b-4d2fe3bfac29"
      },
      "execution_count": 73,
      "outputs": [
        {
          "output_type": "execute_result",
          "data": {
            "text/plain": [
              "['John', 10, None]"
            ]
          },
          "metadata": {},
          "execution_count": 73
        }
      ]
    },
    {
      "cell_type": "code",
      "source": [
        "# LLamando a la lista\n",
        "\n",
        "a[0] # la posiicon 0"
      ],
      "metadata": {
        "colab": {
          "base_uri": "https://localhost:8080/",
          "height": 36
        },
        "id": "BSIb348EwpSk",
        "outputId": "617a6386-ee14-4984-aa45-e7624317a49a"
      },
      "execution_count": 72,
      "outputs": [
        {
          "output_type": "execute_result",
          "data": {
            "text/plain": [
              "'John'"
            ],
            "application/vnd.google.colaboratory.intrinsic+json": {
              "type": "string"
            }
          },
          "metadata": {},
          "execution_count": 72
        }
      ]
    },
    {
      "cell_type": "code",
      "source": [
        "a[2]"
      ],
      "metadata": {
        "colab": {
          "base_uri": "https://localhost:8080/",
          "height": 36
        },
        "id": "lOjxiyXpwpQV",
        "outputId": "1b96c44f-5950-47d9-eb56-39a829ec86c6"
      },
      "execution_count": 74,
      "outputs": [
        {
          "output_type": "execute_result",
          "data": {
            "text/plain": [
              "'Marcelo'"
            ],
            "application/vnd.google.colaboratory.intrinsic+json": {
              "type": "string"
            }
          },
          "metadata": {},
          "execution_count": 74
        }
      ]
    },
    {
      "cell_type": "code",
      "source": [
        "# Creando una lista dentro de otra lista\n",
        "\n",
        "d = ['John', 'Ricardo', 'Marcelo', [20, 18, 15]]\n",
        "d"
      ],
      "metadata": {
        "colab": {
          "base_uri": "https://localhost:8080/"
        },
        "id": "YNGUfPcmxoQP",
        "outputId": "9cd40b4e-7d8e-4106-b252-7b4d9f52ddee"
      },
      "execution_count": 76,
      "outputs": [
        {
          "output_type": "execute_result",
          "data": {
            "text/plain": [
              "['John', 'Ricardo', 'Marcelo', [20, 18, 15]]"
            ]
          },
          "metadata": {},
          "execution_count": 76
        }
      ]
    },
    {
      "cell_type": "code",
      "source": [
        "d[3][0] # posicion 3 y posicion 0"
      ],
      "metadata": {
        "colab": {
          "base_uri": "https://localhost:8080/"
        },
        "id": "8wOGcDYvxzcr",
        "outputId": "a4a3d405-fa1b-4685-b9c6-4b58f64b95bc"
      },
      "execution_count": 78,
      "outputs": [
        {
          "output_type": "execute_result",
          "data": {
            "text/plain": [
              "20"
            ]
          },
          "metadata": {},
          "execution_count": 78
        }
      ]
    },
    {
      "cell_type": "code",
      "source": [
        "d[1:3]"
      ],
      "metadata": {
        "colab": {
          "base_uri": "https://localhost:8080/"
        },
        "id": "UjEtcVdox5BI",
        "outputId": "219e1b7f-2ae4-4aa3-e3d9-19ec6d1ca280"
      },
      "execution_count": 82,
      "outputs": [
        {
          "output_type": "execute_result",
          "data": {
            "text/plain": [
              "['Ricardo', 'Marcelo']"
            ]
          },
          "metadata": {},
          "execution_count": 82
        }
      ]
    },
    {
      "cell_type": "code",
      "source": [
        "d[0], d[3]"
      ],
      "metadata": {
        "colab": {
          "base_uri": "https://localhost:8080/"
        },
        "id": "b1lCSzHix_s0",
        "outputId": "9d19a8ed-9467-4ba0-a03e-dfc756331f7d"
      },
      "execution_count": 88,
      "outputs": [
        {
          "output_type": "execute_result",
          "data": {
            "text/plain": [
              "('John', [20, 18, 15])"
            ]
          },
          "metadata": {},
          "execution_count": 88
        }
      ]
    },
    {
      "cell_type": "code",
      "source": [
        "d[-1]"
      ],
      "metadata": {
        "colab": {
          "base_uri": "https://localhost:8080/"
        },
        "id": "T-VlscMGyP22",
        "outputId": "fa094833-ed81-430b-8442-affebe60291e"
      },
      "execution_count": 92,
      "outputs": [
        {
          "output_type": "execute_result",
          "data": {
            "text/plain": [
              "[20, 18, 15]"
            ]
          },
          "metadata": {},
          "execution_count": 92
        }
      ]
    },
    {
      "cell_type": "code",
      "source": [
        "d[-3:-1]"
      ],
      "metadata": {
        "colab": {
          "base_uri": "https://localhost:8080/"
        },
        "id": "QgZrbPTYygPt",
        "outputId": "3ba27fa1-e99f-42d7-9d8b-8a3a4dc39917"
      },
      "execution_count": 95,
      "outputs": [
        {
          "output_type": "execute_result",
          "data": {
            "text/plain": [
              "['Ricardo', 'Marcelo']"
            ]
          },
          "metadata": {},
          "execution_count": 95
        }
      ]
    },
    {
      "cell_type": "code",
      "source": [
        "f'la nota de {d[0]} es: {d[-1][1]}'"
      ],
      "metadata": {
        "colab": {
          "base_uri": "https://localhost:8080/",
          "height": 36
        },
        "id": "eEJhqKQFzN-d",
        "outputId": "68ee26f8-527f-4e04-84b3-0c78c3a5fae5"
      },
      "execution_count": 98,
      "outputs": [
        {
          "output_type": "execute_result",
          "data": {
            "text/plain": [
              "'la nota de John es: 18'"
            ],
            "application/vnd.google.colaboratory.intrinsic+json": {
              "type": "string"
            }
          },
          "metadata": {},
          "execution_count": 98
        }
      ]
    },
    {
      "cell_type": "markdown",
      "source": [
        "## SENTENCIAS IF"
      ],
      "metadata": {
        "id": "lOEoLzpbzmSh"
      }
    },
    {
      "cell_type": "code",
      "source": [],
      "metadata": {
        "id": "zGpgPwJ0zZhy"
      },
      "execution_count": null,
      "outputs": []
    },
    {
      "cell_type": "markdown",
      "source": [
        "### desigualdades\n"
      ],
      "metadata": {
        "id": "EVGu6pTT0jb9"
      }
    },
    {
      "cell_type": "code",
      "source": [
        "# Es distinto que\n",
        "\n",
        "1 != 2"
      ],
      "metadata": {
        "colab": {
          "base_uri": "https://localhost:8080/"
        },
        "id": "u17ZC-gn0lf_",
        "outputId": "07381a6f-983b-430d-83fb-a24311c924d8"
      },
      "execution_count": 99,
      "outputs": [
        {
          "output_type": "execute_result",
          "data": {
            "text/plain": [
              "True"
            ]
          },
          "metadata": {},
          "execution_count": 99
        }
      ]
    },
    {
      "cell_type": "code",
      "source": [
        "'Audi' != 'audi'"
      ],
      "metadata": {
        "colab": {
          "base_uri": "https://localhost:8080/"
        },
        "id": "ceHe9omI0ldK",
        "outputId": "b25a0aec-7450-450e-a042-9e408bec9103"
      },
      "execution_count": 100,
      "outputs": [
        {
          "output_type": "execute_result",
          "data": {
            "text/plain": [
              "True"
            ]
          },
          "metadata": {},
          "execution_count": 100
        }
      ]
    },
    {
      "cell_type": "code",
      "source": [
        "2 != 2.0"
      ],
      "metadata": {
        "colab": {
          "base_uri": "https://localhost:8080/"
        },
        "id": "NyoMWVSU0la-",
        "outputId": "1eba0999-a26f-47fc-ec23-5bc6e5e5710d"
      },
      "execution_count": 101,
      "outputs": [
        {
          "output_type": "execute_result",
          "data": {
            "text/plain": [
              "False"
            ]
          },
          "metadata": {},
          "execution_count": 101
        }
      ]
    },
    {
      "cell_type": "code",
      "source": [
        "requested_topping = 'champiñones'\n",
        "\n",
        "if requested_topping != 'Anchoas':\n",
        "  print('Sosten las anchoas! ')"
      ],
      "metadata": {
        "colab": {
          "base_uri": "https://localhost:8080/"
        },
        "id": "VTfgqh6a0lYo",
        "outputId": "517d6fc9-98a0-45f6-9db7-32d73fe7619b"
      },
      "execution_count": 102,
      "outputs": [
        {
          "output_type": "stream",
          "name": "stdout",
          "text": [
            "Sosten las anchoas! \n"
          ]
        }
      ]
    },
    {
      "cell_type": "markdown",
      "source": [
        "### Comparar numeros"
      ],
      "metadata": {
        "id": "IKaOgQL01G2A"
      }
    },
    {
      "cell_type": "code",
      "source": [
        "age = 18\n",
        "age == 18"
      ],
      "metadata": {
        "colab": {
          "base_uri": "https://localhost:8080/"
        },
        "id": "d5sk-qyB0lWW",
        "outputId": "94775ec7-0da8-4a4e-c0a9-05ced4bbdd75"
      },
      "execution_count": 103,
      "outputs": [
        {
          "output_type": "execute_result",
          "data": {
            "text/plain": [
              "True"
            ]
          },
          "metadata": {},
          "execution_count": 103
        }
      ]
    },
    {
      "cell_type": "code",
      "source": [
        "answer = 17\n",
        "\n",
        "if answer != 42:\n",
        "  print('Respuesta incorrecta, intenta nuevamente!')"
      ],
      "metadata": {
        "colab": {
          "base_uri": "https://localhost:8080/"
        },
        "id": "pJ5zfLMt1Kni",
        "outputId": "3c608165-280c-4467-e53e-d75bf0a2f15d"
      },
      "execution_count": 104,
      "outputs": [
        {
          "output_type": "stream",
          "name": "stdout",
          "text": [
            "Respuesta incorrecta, intenta nuevamente!\n"
          ]
        }
      ]
    },
    {
      "cell_type": "code",
      "source": [
        "age = 19\n",
        "age < 21"
      ],
      "metadata": {
        "colab": {
          "base_uri": "https://localhost:8080/"
        },
        "id": "qAfvFcwn1VBq",
        "outputId": "47051bd3-2b82-486e-84d0-ba9bd7025594"
      },
      "execution_count": 105,
      "outputs": [
        {
          "output_type": "execute_result",
          "data": {
            "text/plain": [
              "True"
            ]
          },
          "metadata": {},
          "execution_count": 105
        }
      ]
    },
    {
      "cell_type": "code",
      "source": [
        "age <= 21"
      ],
      "metadata": {
        "colab": {
          "base_uri": "https://localhost:8080/"
        },
        "id": "UjQxK7r61gVO",
        "outputId": "0ae6f752-41a9-42da-9770-019529c6c9eb"
      },
      "execution_count": 106,
      "outputs": [
        {
          "output_type": "execute_result",
          "data": {
            "text/plain": [
              "True"
            ]
          },
          "metadata": {},
          "execution_count": 106
        }
      ]
    },
    {
      "cell_type": "code",
      "source": [
        "age > 21"
      ],
      "metadata": {
        "colab": {
          "base_uri": "https://localhost:8080/"
        },
        "id": "RBehq7CF1iXI",
        "outputId": "394fa4b7-3cc2-4fdb-c2e2-6d311bd09221"
      },
      "execution_count": 107,
      "outputs": [
        {
          "output_type": "execute_result",
          "data": {
            "text/plain": [
              "False"
            ]
          },
          "metadata": {},
          "execution_count": 107
        }
      ]
    },
    {
      "cell_type": "code",
      "source": [
        "age >= 21"
      ],
      "metadata": {
        "colab": {
          "base_uri": "https://localhost:8080/"
        },
        "id": "_96mgaB91j64",
        "outputId": "1cd7d0d9-d300-4aea-9b31-f7cd613dac3f"
      },
      "execution_count": 108,
      "outputs": [
        {
          "output_type": "execute_result",
          "data": {
            "text/plain": [
              "False"
            ]
          },
          "metadata": {},
          "execution_count": 108
        }
      ]
    },
    {
      "cell_type": "markdown",
      "source": [
        "### Sentencias if - else"
      ],
      "metadata": {
        "id": "qD9-GQYN3vdC"
      }
    },
    {
      "cell_type": "code",
      "source": [
        "age = int(input(f\"Dime tu edad: \"))\n",
        "\n",
        "if age < 18:\n",
        "  print(\"Todavia eres menor de edad\")\n",
        "else:\n",
        "  print('\\nEres mayor de edad')"
      ],
      "metadata": {
        "colab": {
          "base_uri": "https://localhost:8080/"
        },
        "id": "JpwpAql01lIM",
        "outputId": "4221fe62-a08c-4de1-b0c3-53c44639d1fe"
      },
      "execution_count": 114,
      "outputs": [
        {
          "output_type": "stream",
          "name": "stdout",
          "text": [
            "Dime tu edad: 18\n",
            "\n",
            "Eres mayor de edad\n"
          ]
        }
      ]
    },
    {
      "cell_type": "markdown",
      "source": [
        "### Sentencias if - elif - else"
      ],
      "metadata": {
        "id": "fOS5twms37-z"
      }
    },
    {
      "cell_type": "code",
      "source": [
        "age = 12\n",
        "\n",
        "if age < 4:\n",
        "  print('Your admission cost is s/ 0')\n",
        "\n",
        "elif age < 18:\n",
        "  print('Your admission cost is s/ 25')\n",
        "\n",
        "else:\n",
        "  print('Your admission cost is s/ 40')"
      ],
      "metadata": {
        "colab": {
          "base_uri": "https://localhost:8080/"
        },
        "id": "FQrw5_4b37V-",
        "outputId": "fd576447-2efb-486b-d8d1-c869c37bea6f"
      },
      "execution_count": 115,
      "outputs": [
        {
          "output_type": "stream",
          "name": "stdout",
          "text": [
            "Your admission cost is s/ 25\n"
          ]
        }
      ]
    },
    {
      "cell_type": "markdown",
      "source": [
        "### Multiples bloques"
      ],
      "metadata": {
        "id": "JuptXc_545yj"
      }
    },
    {
      "cell_type": "code",
      "source": [
        "age = 12\n",
        "\n",
        "if age < 4:\n",
        "  price = 0\n",
        "\n",
        "elif age < 18:\n",
        "  price = 25\n",
        "\n",
        "elif age < 65:\n",
        "  price = 40\n",
        "\n",
        "else:\n",
        "  price = 20\n",
        "\n",
        "print(f'Your admission cost is s/ {price}')"
      ],
      "metadata": {
        "colab": {
          "base_uri": "https://localhost:8080/"
        },
        "id": "jL6KRk2k37SW",
        "outputId": "0f315655-07ab-42b8-a228-8977c85601ad"
      },
      "execution_count": 116,
      "outputs": [
        {
          "output_type": "stream",
          "name": "stdout",
          "text": [
            "Your admission cost is s/ 25\n"
          ]
        }
      ]
    },
    {
      "cell_type": "markdown",
      "source": [
        "### Ignorando el bloque else"
      ],
      "metadata": {
        "id": "k5YiCHCt5QDa"
      }
    },
    {
      "cell_type": "code",
      "source": [],
      "metadata": {
        "id": "2o4Otkb84H0k"
      },
      "execution_count": null,
      "outputs": []
    },
    {
      "cell_type": "code",
      "source": [],
      "metadata": {
        "id": "JNMnstoL4HxI"
      },
      "execution_count": null,
      "outputs": []
    },
    {
      "cell_type": "code",
      "source": [],
      "metadata": {
        "id": "CKKk9u-T4Hu8"
      },
      "execution_count": null,
      "outputs": []
    },
    {
      "cell_type": "code",
      "source": [],
      "metadata": {
        "id": "eRXQNcns4Hsy"
      },
      "execution_count": null,
      "outputs": []
    },
    {
      "cell_type": "code",
      "source": [],
      "metadata": {
        "id": "CrhferGR4Hqe"
      },
      "execution_count": null,
      "outputs": []
    },
    {
      "cell_type": "code",
      "source": [],
      "metadata": {
        "id": "9kLtlhSz4HoI"
      },
      "execution_count": null,
      "outputs": []
    }
  ]
}